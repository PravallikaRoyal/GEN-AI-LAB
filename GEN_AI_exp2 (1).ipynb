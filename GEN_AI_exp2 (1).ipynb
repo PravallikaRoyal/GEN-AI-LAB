{
  "nbformat": 4,
  "nbformat_minor": 0,
  "metadata": {
    "colab": {
      "provenance": []
    },
    "kernelspec": {
      "name": "python3",
      "display_name": "Python 3"
    },
    "language_info": {
      "name": "python"
    }
  },
  "cells": [
    {
      "cell_type": "code",
      "execution_count": 3,
      "metadata": {
        "colab": {
          "base_uri": "https://localhost:8080/"
        },
        "id": "6WhER5H4pclI",
        "outputId": "8920c7a9-068f-4fb1-bc51-63317f48282d"
      },
      "outputs": [
        {
          "output_type": "stream",
          "name": "stderr",
          "text": [
            "No model was supplied, defaulted to distilbert/distilbert-base-uncased-finetuned-sst-2-english and revision 714eb0f (https://huggingface.co/distilbert/distilbert-base-uncased-finetuned-sst-2-english).\n",
            "Using a pipeline without specifying a model name and revision in production is not recommended.\n",
            "Device set to use cpu\n"
          ]
        },
        {
          "output_type": "stream",
          "name": "stdout",
          "text": [
            "Sentiment analysis:\n",
            "Sentiment: POSITIVE score: 1.00\n"
          ]
        }
      ],
      "source": [
        "from transformers import pipeline\n",
        "\n",
        "sentiment_analyzer = pipeline(\"sentiment-analysis\")\n",
        "text = \"I am feeling happy\"\n",
        "sentiment_result = sentiment_analyzer(text)\n",
        "\n",
        "print(\"Sentiment analysis:\")\n",
        "print(f\"Sentiment: {sentiment_result[0]['label']} score: {sentiment_result[0]['score']:.2f}\")\n"
      ]
    },
    {
      "cell_type": "code",
      "source": [
        "from transformers import pipeline\n",
        "\n",
        "translator_en_to_fr = pipeline(\"translation_en_to_fr\", model=\"Helsinki-NLP/opus-mt-en-fr\")\n",
        "text = \"I am feeling happy\"\n",
        "translation_result = translator_en_to_fr(text)\n",
        "\n",
        "print(\"Translation:\")\n",
        "print(f\"Translated text: {translation_result[0]['translation_text']}\\n\")\n"
      ],
      "metadata": {
        "colab": {
          "base_uri": "https://localhost:8080/"
        },
        "id": "55giy0-nrvhZ",
        "outputId": "0336fa42-26af-4572-e153-10d50b304bd6"
      },
      "execution_count": 4,
      "outputs": [
        {
          "output_type": "stream",
          "name": "stderr",
          "text": [
            "Device set to use cpu\n"
          ]
        },
        {
          "output_type": "stream",
          "name": "stdout",
          "text": [
            "Translation:\n",
            "Translated text: Je me sens heureux.\n",
            "\n"
          ]
        }
      ]
    },
    {
      "cell_type": "code",
      "source": [],
      "metadata": {
        "id": "cBLqf1NZsLDT"
      },
      "execution_count": 2,
      "outputs": []
    }
  ]
}